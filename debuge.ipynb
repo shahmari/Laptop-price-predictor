{
 "cells": [
  {
   "cell_type": "code",
   "execution_count": 3,
   "source": [
    "from get_raw_modules import get_raw_data as grd\r\n",
    "import re\r\n",
    "\r\n",
    "url = 'https://www.digikala.com/search/category-notebook-netbook-ultrabook/?has_selling_stock=1&pageno={}&sortby=4'\r\n",
    "data = grd(url)\r\n"
   ],
   "outputs": [],
   "metadata": {}
  },
  {
   "cell_type": "code",
   "execution_count": 45,
   "source": [
    "len(data)"
   ],
   "outputs": [
    {
     "output_type": "execute_result",
     "data": {
      "text/plain": [
       "425"
      ]
     },
     "metadata": {},
     "execution_count": 45
    }
   ],
   "metadata": {}
  },
  {
   "cell_type": "code",
   "execution_count": 141,
   "source": [
    "keys = [\r\n",
    "    'وزن',\r\n",
    "    'اندازه صفحه نمایش',\r\n",
    "    'دقت صفحه نمایش',\r\n",
    "    'سازنده پردازنده گرافیکی',\r\n",
    "    'حافظه اختصاصی پردازنده گرافیکی',\r\n",
    "    'نوع حافظه داخلی',\r\n",
    "    'نوع حافظه RAM',\r\n",
    "    'ظرفیت حافظه RAM',\r\n",
    "    'سری پردازنده',\r\n",
    "    'حافظه Cache',\r\n",
    "    'سیستم عامل',\r\n",
    "    'توضیحات باتری',\r\n",
    "    'صفحه نمایش لمسی',\r\n",
    "    'پورت Thunderbolt',\r\n",
    "    'پورت USB 4.0',\r\n",
    "    'پورت USB Type-C',\r\n",
    "    'کیبورد با نور پس زمینه',\r\n",
    "    'حسگر اثر انگشت',\r\n",
    "    'درایو نوری'\r\n",
    "]\r\n"
   ],
   "outputs": [],
   "metadata": {}
  },
  {
   "cell_type": "code",
   "execution_count": 172,
   "source": [
    "def miner(raw_inp):\r\n",
    "    outdict = {}\r\n",
    "    outdict['Price'] = int(raw_inp['price'])\r\n",
    "    for key in keys:\r\n",
    "        if key == 'وزن':\r\n",
    "            outdict['Mass'] = float(re.findall(r'(.+?) کیلوگرم', raw_inp[key])[0])\r\n",
    "\r\n",
    "        elif key == 'اندازه صفحه نمایش':\r\n",
    "            outdict['PanalSize'] = float(re.findall(r'(.+?) اینچ', raw_inp[key])[0])\r\n",
    "\r\n",
    "        elif key == 'دقت صفحه نمایش':\r\n",
    "            find = re.findall(\r\n",
    "                r'(\\d.+\\d)\\s', raw_inp[key])[0].replace(' ', '').split('x')\r\n",
    "            outdict['PanalResolution'] = int(find[0]) * int(find[1])\r\n",
    "\r\n",
    "        elif key == 'سازنده پردازنده گرافیکی':\r\n",
    "            outdict['GPUBrand'] = raw_inp[key].replace(\" \",\"\")\r\n",
    "\r\n",
    "        elif key == 'حافظه اختصاصی پردازنده گرافیکی':\r\n",
    "            null = 'بدون حافظه\\u200cی گرافیکی مجزا '\r\n",
    "            find = raw_inp[key].replace('GB ', '000')\r\n",
    "            find = find.replace('MB ', '')\r\n",
    "            find = find.replace(null, '0')\r\n",
    "            outdict['GPUCapacity'] = int(find)\r\n",
    "\r\n",
    "        elif key == 'نوع حافظه داخلی':\r\n",
    "            if key in raw_inp.keys():\r\n",
    "                stg_type = ['SSD ', 'eMMC ', 'حافظه\\u200cهای هیبریدی ', 'هارد دیسک ']\r\n",
    "                find = raw_inp[key].replace(stg_type[2], '1')\r\n",
    "                find = find.replace(stg_type[3], '2')\r\n",
    "                find = find.replace(stg_type[0], '3')\r\n",
    "                find = find.replace(stg_type[1], '4')\r\n",
    "                outdict['DiskType'] = int(find)\r\n",
    "            else:\r\n",
    "                outdict['DiskType'] = 1\r\n",
    "\r\n",
    "        elif key == 'نوع حافظه RAM':\r\n",
    "            if '3' in raw_inp[key]:\r\n",
    "                find = 3\r\n",
    "            else:\r\n",
    "                find = 4\r\n",
    "            outdict['RAMType'] = find\r\n",
    "            \r\n",
    "        elif key == 'ظرفیت حافظه RAM':\r\n",
    "            find = raw_inp[key].replace(' گیگابایت ', '')\r\n",
    "            outdict['RAMCapacity'] = int(find)\r\n",
    "            \r\n",
    "        elif key == 'سری پردازنده':\r\n",
    "            outdict['CPUSerie'] = raw_inp[key][:-1]\r\n",
    "\r\n",
    "        elif key == 'حافظه Cache':\r\n",
    "            if key in raw_inp.keys():\r\n",
    "                find = raw_inp[key].replace(' مگابایت ', '')\r\n",
    "                outdict['CacheCapacity'] = int(find)\r\n",
    "            elif raw_inp['price'] < 10000000:\r\n",
    "                outdict['CacheCapacity'] = 1\r\n",
    "            else:\r\n",
    "                outdict['CacheCapacity'] = 5\r\n",
    "\r\n",
    "        elif key == 'توضیحات باتری':\r\n",
    "            if key in raw_inp.keys():\r\n",
    "                find = re.sub(r'[^\\d\\.\\s]', \"\", raw_inp[key])\r\n",
    "                find = re.findall(r'\\s(\\d[\\d\\.]+)\\s', find)\r\n",
    "                if find != []:\r\n",
    "                    if float(find[0]) > 100:\r\n",
    "                        find[0] = 30.0\r\n",
    "                    outdict['Battery'] = float(find[0])\r\n",
    "                else:\r\n",
    "                    outdict['Battery'] = 35.0\r\n",
    "            else:\r\n",
    "                outdict['Battery'] = 35.5\r\n",
    "                \r\n",
    "        elif key == 'سیستم عامل':\r\n",
    "            if key in raw_inp.keys():\r\n",
    "                freeos = ['ندارد ', 'بدون ویندوز ', 'بدون سیستم\\u200cعامل ',\r\n",
    "                          'Ubuntu Linux ', 'FreeDOS ', 'Boot-Up DOS ']\r\n",
    "                if raw_inp[key] in freeos:\r\n",
    "                    find = 0\r\n",
    "                else:\r\n",
    "                    find = 1\r\n",
    "                outdict['OS'] = find\r\n",
    "            else:\r\n",
    "                outdict['OS'] = 0\r\n",
    "\r\n",
    "        elif key == 'صفحه نمایش لمسی':\r\n",
    "            if key in raw_inp.keys():\r\n",
    "                resp = ['بله ', 'خیر ']\r\n",
    "                find = raw_inp[key].replace(resp[0], '1').replace(resp[1], '0')\r\n",
    "                outdict['Touch'] = int(find)\r\n",
    "            else:\r\n",
    "                outdict['Touch'] = 0\r\n",
    "\r\n",
    "        elif key == 'پورت Thunderbolt':\r\n",
    "            if key in raw_inp.keys():\r\n",
    "                resp = ['ندارد ', 'دارد ']\r\n",
    "                find = raw_inp[key].replace(resp[0], '0').replace(resp[1], '1')\r\n",
    "                outdict['Thunderbolt'] = int(find)\r\n",
    "            else:\r\n",
    "                outdict['Thunderbolt'] = 0\r\n",
    "\r\n",
    "        elif key == 'پورت USB 4.0':\r\n",
    "            if key in raw_inp.keys():\r\n",
    "                resp = ['ندارد ', 'دارد ']\r\n",
    "                find = raw_inp[key].replace(resp[0], '0').replace(resp[1], '1')\r\n",
    "                outdict['USB4'] = int(find)\r\n",
    "            else:\r\n",
    "                outdict['USB4'] = 0\r\n",
    "        \r\n",
    "        elif key == 'پورت USB Type-C':\r\n",
    "            if key in raw_inp.keys():\r\n",
    "                resp = ['ندارد ', 'دارد ']\r\n",
    "                find = raw_inp[key].replace(resp[0], '0').replace(resp[1], '1')\r\n",
    "                outdict['TypeC'] = int(find)\r\n",
    "            else:\r\n",
    "                outdict['TypeC'] = 0\r\n",
    "\r\n",
    "        elif key == 'کیبورد با نور پس زمینه':\r\n",
    "            if key in raw_inp.keys():\r\n",
    "                resp = ['ندارد ', 'دارد ']\r\n",
    "                find = raw_inp[key].replace(resp[0], '0').replace(resp[1], '1')\r\n",
    "                outdict['KeyboardLight'] = int(find)\r\n",
    "            else:\r\n",
    "                outdict['KeyboardLight'] = 0\r\n",
    "\r\n",
    "        elif key == 'حسگر اثر انگشت':\r\n",
    "            if key in raw_inp.keys():\r\n",
    "                resp = ['ندارد ', 'دارد ']\r\n",
    "                find = raw_inp[key].replace(resp[0], '0').replace(resp[1], '1')\r\n",
    "                outdict['Fingerprint'] = int(find)\r\n",
    "            else:\r\n",
    "                outdict['Fingerprint'] = 0\r\n",
    "\r\n",
    "        elif key == 'درایو نوری':\r\n",
    "            if key in raw_inp.keys():\r\n",
    "                resp = ['DVD-RW ', 'بدون درایو نوری ']\r\n",
    "                find = raw_inp[key].replace(resp[0], '1').replace(resp[1], '0')\r\n",
    "                outdict['DVD'] = int(find)\r\n",
    "            else:\r\n",
    "                outdict['DVD'] = 0\r\n",
    "    return outdict\r\n"
   ],
   "outputs": [],
   "metadata": {}
  },
  {
   "cell_type": "code",
   "execution_count": 157,
   "source": [
    "Prior_keys = ['Price', 'Mass', 'PanalSize', 'PanalResolution', 'GPUBrand', 'GPUCapacity', 'DiskType', 'RAMType', 'RAMCapacity',\r\n",
    "              'CPUSerie', 'CacheCapacity', 'OS', 'Battery', 'Touch', 'Thunderbolt', 'USB4', 'TypeC', 'KeyboardLight', 'Fingerprint', 'DVD']\r\n"
   ],
   "outputs": [],
   "metadata": {}
  },
  {
   "cell_type": "code",
   "execution_count": 173,
   "source": [
    "miner(data[300])"
   ],
   "outputs": [
    {
     "output_type": "execute_result",
     "data": {
      "text/plain": [
       "{'Price': 26650000,\n",
       " 'Mass': 1.8,\n",
       " 'PanalSize': 15.6,\n",
       " 'PanalResolution': 2073600,\n",
       " 'GPUBrand': 'NVIDIA',\n",
       " 'GPUCapacity': 2000,\n",
       " 'DiskType': 1,\n",
       " 'RAMType': 4,\n",
       " 'RAMCapacity': 16,\n",
       " 'CPUSerie': 'Core i7',\n",
       " 'CacheCapacity': 12,\n",
       " 'OS': 0,\n",
       " 'Battery': 42.0,\n",
       " 'Touch': 0,\n",
       " 'Thunderbolt': 0,\n",
       " 'USB4': 0,\n",
       " 'TypeC': 1,\n",
       " 'KeyboardLight': 1,\n",
       " 'Fingerprint': 1,\n",
       " 'DVD': 0}"
      ]
     },
     "metadata": {},
     "execution_count": 173
    }
   ],
   "metadata": {}
  },
  {
   "cell_type": "code",
   "execution_count": null,
   "source": [
    "for laptop in data:\r\n",
    "    for key in Prior_keys:"
   ],
   "outputs": [],
   "metadata": {}
  },
  {
   "cell_type": "code",
   "execution_count": null,
   "source": [
    "import mysql.connector\r\n",
    "\r\n",
    "with open(\"setting.txt\",\"\")\r\n",
    "\r\n",
    "print('connecting to the server...')\r\n",
    "laptopdb = mysql.connector.connect(\r\n",
    "    host=\"localhost\",\r\n",
    "    user=\"root\",\r\n",
    "    password=\"36268232\",\r\n",
    "    database=\"laptop_data\"\r\n",
    ")\r\n",
    "print('connected to the Sql!')\r\n"
   ],
   "outputs": [],
   "metadata": {}
  },
  {
   "cell_type": "code",
   "execution_count": 164,
   "source": [
    "import mysql.connector\r\n",
    "host = \"localhost\"\r\n",
    "user = \"root\"\r\n",
    "password = \"36268232\"\r\n",
    "#with open(\"setting.txt\", \"\")\r\n",
    "\r\n",
    "\r\n",
    "def check_database(host_, user_, pass_):\r\n",
    "    database = mysql.connector.connect(\r\n",
    "        host = host_ ,\r\n",
    "        user = user_ ,\r\n",
    "        password = pass_\r\n",
    "    )\r\n",
    "    mycursor = database.cursor()\r\n",
    "    mycursor.execute(\"SHOW DATABASES\")\r\n",
    "    if (\"laptop_data\",) in mycursor:\r\n",
    "        return True\r\n",
    "    else:\r\n",
    "        return False\r\n",
    "\r\n",
    "\r\n",
    "check_database(host, user, password)\r\n"
   ],
   "outputs": [
    {
     "output_type": "stream",
     "name": "stdout",
     "text": [
      "connected to the Sql!"
     ]
    },
    {
     "output_type": "execute_result",
     "data": {
      "text/plain": [
       "True"
      ]
     },
     "metadata": {},
     "execution_count": 164
    }
   ],
   "metadata": {}
  },
  {
   "cell_type": "code",
   "execution_count": null,
   "source": [
    "def check_table(host_, user_, pass_):\r\n",
    "    database = mysql.connector.connect(\r\n",
    "        host=host_,\r\n",
    "        user=user_,\r\n",
    "        password=pass_\r\n",
    "        database=\"laptop_data\"\r\n",
    "    )\r\n",
    "    mycursor = database.cursor()\r\n",
    "    mycursor.execute(\"SHOW TABLES\")\r\n",
    "    if (\"selected_data\",) in mycursor:\r\n",
    "        return True\r\n",
    "    else:\r\n",
    "        return False\r\n",
    "\r\n",
    "\r\n",
    "check_database(host, user, password)\r\n"
   ],
   "outputs": [],
   "metadata": {}
  },
  {
   "cell_type": "code",
   "execution_count": null,
   "source": [
    "def create_database(host_, user_, pass_):\r\n",
    "    database = mysql.connector.connect(\r\n",
    "        host=host_,\r\n",
    "        user=user_,\r\n",
    "        password=pass_\r\n",
    "    )\r\n",
    "    mycursor = database.cursor()\r\n",
    "    mycursor.execute(\"CREATE DATABASES laptop_data\")\r\n"
   ],
   "outputs": [],
   "metadata": {}
  },
  {
   "cell_type": "code",
   "execution_count": null,
   "source": [
    "def create_table(host_, user_, pass_):\r\n",
    "    database = mysql.connector.connect(\r\n",
    "        host=host_,\r\n",
    "        user=user_,\r\n",
    "        password=pass_\r\n",
    "        database=\"laptop_data\"\r\n",
    "    )\r\n",
    "    mycursor = database.cursor()\r\n",
    "    execute = 'create table selected_data (Price int, Mass float, PanalSize float, PanalResolution int, GPUBrand varchar(255), GPUCapacity int, DiskType int, RAMType int, RAMCapacity int, CPUSerie varchar(255), CacheCapacity int, OS int, Battery float, Touch int, Thunderbolt int, USB4 int, TypeC int, KeyboardLight int, Fingerprint int, DVD int)'\r\n",
    "    mycursor.execute(execute)\r\n"
   ],
   "outputs": [],
   "metadata": {}
  },
  {
   "cell_type": "code",
   "execution_count": 177,
   "source": [
    "import os\r\n",
    "print('welcome to laptop price predictor!')\r\n",
    "setting_check = os.path.isfile('./setting')\r\n",
    "if setting_check == True:\r\n",
    "    with open('setting', 'r') as setting:\r\n",
    "        settext = setting.read().split('\\n')\r\n",
    "    if settext[0] == 'y':\r\n",
    "        choice = settext[0]\r\n",
    "        host = settext[1]\r\n",
    "        user = settext[2]\r\n",
    "        password = settext[3]\r\n",
    "    else:\r\n",
    "        choice = 'n'\r\n",
    "else:\r\n",
    "    choice = input(\r\n",
    "        'we use normal file saving method by default. do you want to change it to SQL? [y]/[n]')\r\n",
    "    while True:\r\n",
    "        if choice in ['y', 'n']:\r\n",
    "            break\r\n",
    "        else:\r\n",
    "            print('Please respond correctly. try again:')\r\n",
    "            choice = input()\r\n",
    "    host = user = password = \"\"\r\n",
    "    if choice == 'y':\r\n",
    "        print('Please enter your server information:')\r\n",
    "        host = input('Enter your host name: (for example localhost)')\r\n",
    "        user = input('Enter your username: (for example root)')\r\n",
    "        password = input('Enter your password:')\r\n",
    "    dosave = input('Do you want to save changes and your information? [y]/[n]')\r\n",
    "    while True:\r\n",
    "        if dosave in ['y', 'n']:\r\n",
    "            break\r\n",
    "        else:\r\n",
    "            print('Please respond correctly. try again:')\r\n",
    "            dosave = input()\r\n",
    "    if dosave == 'y':\r\n",
    "        with open('setting', 'w') as setting:\r\n",
    "            setting.write(choice+'\\n'+host+'\\n'+user+'\\n'+password)\r\n"
   ],
   "outputs": [
    {
     "output_type": "stream",
     "name": "stdout",
     "text": [
      "welcome to laptop price predictor!\n"
     ]
    }
   ],
   "metadata": {}
  },
  {
   "cell_type": "code",
   "execution_count": 178,
   "source": [
    "if choice == 'y':"
   ],
   "outputs": [
    {
     "output_type": "execute_result",
     "data": {
      "text/plain": [
       "('localhost', 'root', '36268232')"
      ]
     },
     "metadata": {},
     "execution_count": 178
    }
   ],
   "metadata": {}
  }
 ],
 "metadata": {
  "orig_nbformat": 4,
  "language_info": {
   "name": "python",
   "version": "3.9.6",
   "mimetype": "text/x-python",
   "codemirror_mode": {
    "name": "ipython",
    "version": 3
   },
   "pygments_lexer": "ipython3",
   "nbconvert_exporter": "python",
   "file_extension": ".py"
  },
  "kernelspec": {
   "name": "python3",
   "display_name": "Python 3.9.6 64-bit"
  },
  "interpreter": {
   "hash": "e90483a7cb1e7e22226eb8a680b135918114a425dc58b4d338fc085a691d3c36"
  }
 },
 "nbformat": 4,
 "nbformat_minor": 2
}